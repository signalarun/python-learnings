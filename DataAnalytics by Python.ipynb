{
 "cells": [
  {
   "cell_type": "markdown",
   "metadata": {},
   "source": [
    "### Python basics"
   ]
  },
  {
   "cell_type": "markdown",
   "metadata": {},
   "source": [
    "#### Dictionary"
   ]
  },
  {
   "cell_type": "code",
   "execution_count": 35,
   "metadata": {},
   "outputs": [
    {
     "name": "stdout",
     "output_type": "stream",
     "text": [
      "2\n"
     ]
    }
   ],
   "source": [
    "my_dictionary ={\"red\":\"2\", \"blue\" : \"3\", \"green\" : \"4\"}\n",
    "print(my_dictionary[\"red\"])"
   ]
  },
  {
   "cell_type": "markdown",
   "metadata": {},
   "source": [
    "#### Functions\n",
    "*note : Python uses indentation to group lines of code or to determine scope*"
   ]
  },
  {
   "cell_type": "code",
   "execution_count": 36,
   "metadata": {
    "scrolled": true
   },
   "outputs": [
    {
     "name": "stdout",
     "output_type": "stream",
     "text": [
      "Hello world\n"
     ]
    }
   ],
   "source": [
    "# function defnition\n",
    "def greetings():\n",
    " print(\"Hello world\")\n",
    "    \n",
    "# function call    \n",
    "greetings()"
   ]
  },
  {
   "cell_type": "markdown",
   "metadata": {},
   "source": [
    "### sum function"
   ]
  },
  {
   "cell_type": "code",
   "execution_count": 37,
   "metadata": {},
   "outputs": [
    {
     "data": {
      "text/plain": [
       "103"
      ]
     },
     "execution_count": 37,
     "metadata": {},
     "output_type": "execute_result"
    }
   ],
   "source": [
    "sum([1,2,100])"
   ]
  },
  {
   "cell_type": "markdown",
   "metadata": {},
   "source": [
    "#### range function\n",
    "*range(start, stop, step)*"
   ]
  },
  {
   "cell_type": "code",
   "execution_count": 38,
   "metadata": {},
   "outputs": [
    {
     "name": "stdout",
     "output_type": "stream",
     "text": [
      "1\n",
      "3\n",
      "5\n",
      "7\n",
      "9\n",
      "range(5)\n",
      "0\n",
      "1\n",
      "2\n",
      "3\n",
      "4\n"
     ]
    }
   ],
   "source": [
    "for n in range(1,10, 2):\n",
    " print(n)\n",
    "print(\"range(5)\")\n",
    "for n in range(5):\n",
    " print(n)"
   ]
  },
  {
   "cell_type": "markdown",
   "metadata": {},
   "source": [
    "#### Numpy functions"
   ]
  },
  {
   "cell_type": "markdown",
   "metadata": {},
   "source": [
    "##### sum"
   ]
  },
  {
   "cell_type": "code",
   "execution_count": 39,
   "metadata": {},
   "outputs": [
    {
     "data": {
      "text/plain": [
       "103"
      ]
     },
     "execution_count": 39,
     "metadata": {},
     "output_type": "execute_result"
    }
   ],
   "source": [
    "import numpy as np\n",
    "np.sum([1,2,100])"
   ]
  },
  {
   "cell_type": "markdown",
   "metadata": {},
   "source": [
    "##### unique"
   ]
  },
  {
   "cell_type": "code",
   "execution_count": 40,
   "metadata": {},
   "outputs": [
    {
     "data": {
      "text/plain": [
       "(array([1, 2, 3, 5]), array([2, 2, 2, 1]))"
      ]
     },
     "execution_count": 40,
     "metadata": {},
     "output_type": "execute_result"
    }
   ],
   "source": [
    "np.unique([1,2,3,3,2,1,5], return_counts=True) # returns unique data with thier counts"
   ]
  },
  {
   "cell_type": "markdown",
   "metadata": {},
   "source": [
    "#### Lists and accessing it"
   ]
  },
  {
   "cell_type": "code",
   "execution_count": 41,
   "metadata": {},
   "outputs": [
    {
     "name": "stdout",
     "output_type": "stream",
     "text": [
      "BLUE\n",
      "YELLOW\n",
      "RED\n",
      "GREEN\n",
      "ORANGE\n"
     ]
    }
   ],
   "source": [
    "color = {\"RED\", \"BLUE\", \"GREEN\", \"YELLOW\", \"ORANGE\"}\n",
    "for c in color:\n",
    "    print(c)"
   ]
  },
  {
   "cell_type": "markdown",
   "metadata": {},
   "source": [
    "#### Visualization"
   ]
  },
  {
   "cell_type": "code",
   "execution_count": 42,
   "metadata": {},
   "outputs": [
    {
     "data": {
      "image/png": "[encoded data removed]",
      "text/plain": [
       "<Figure size 432x288 with 1 Axes>"
      ]
     },
     "metadata": {
      "needs_background": "light"
     },
     "output_type": "display_data"
    }
   ],
   "source": [
    "import matplotlib.pyplot as plt\n",
    "\n",
    "input_values = [1, 2, 3, 4, 5]\n",
    "output_values = [1.5, 5, 9, 16, 25]\n",
    "\n",
    "\n",
    "fig, ax = plt.subplots()\n",
    "ax.plot(input_values, output_values, linewidth=3)\n",
    "plt.show()"
   ]
  },
  {
   "cell_type": "markdown",
   "metadata": {},
   "source": [
    "#### Pandas Basics\n",
    " *A library to handle data*\n",
    " "
   ]
  },
  {
   "cell_type": "code",
   "execution_count": 43,
   "metadata": {
    "scrolled": true
   },
   "outputs": [
    {
     "name": "stdout",
     "output_type": "stream",
     "text": [
      "['Google' 'OYO']\n",
      "Google\n",
      "0       OYO\n",
      "1    Google\n",
      "2    Google\n",
      "Name: Company, dtype: object\n",
      "\n",
      "\n",
      "  Company Department Name Location\n",
      "1  Google              AI       US\n",
      "2  Google         Quantum       US\n",
      "Index(['wmc', 'dit', 'noc', 'cbo', 'rfc', 'lcom', 'ca', 'ce', 'npm', 'lcom3',\n",
      "       'loc', 'dam', 'moa', 'mfa', 'cam', 'ic', 'cbm', 'amc', 'max_cc',\n",
      "       'avg_cc'],\n",
      "      dtype='object')\n"
     ]
    }
   ],
   "source": [
    "import pandas as pd\n",
    "import numpy as np\n",
    "\n",
    "# Creating a dataframe with dictionary \n",
    "\n",
    "COMPANY_INFO = {\n",
    "         'Company' : ['OYO', 'Google', 'Google'],\n",
    "         'Department Name' : ['Registration', 'AI', 'Quantum'],\n",
    "         'Location' : ['Bangalore', 'US', 'US']\n",
    "        }\n",
    "\n",
    "COMPANY_INFO_DATA = pd.DataFrame(COMPANY_INFO)\n",
    "\n",
    "elements, count = np.unique(COMPANY_INFO['Company'], return_counts=True)\n",
    "print(elements)\n",
    "print(elements[0])\n",
    "print(COMPANY_INFO_DATA['Company'])\n",
    "\n",
    "print('\\n')\n",
    "# A complex query of dataframe\n",
    "print(COMPANY_INFO_DATA.where(COMPANY_INFO_DATA['Company'] == elements[0]).dropna()) # droping NaN\n",
    " \n",
    "\n",
    "# Creating dataframe from file\n",
    "\n",
    "FILE_PATH = './ant-1.3/ant-1.3.csv'\n",
    "df = None\n",
    "try:\n",
    " df = pd.read_csv(FILE_PATH)\n",
    " print(df.columns[3:23])\n",
    "except FileNotFoundError:\n",
    " print(\"Exception : FileNotFounfError, hence file could not be read\")\n",
    "\n",
    "# Saving file  as CSV\n",
    "DEST_FILE_PATH = 'lab_new.csv'\n",
    "if df is not None :\n",
    " df.to_csv(DEST_FILE_PATH)"
   ]
  },
  {
   "cell_type": "code",
   "execution_count": 44,
   "metadata": {
    "scrolled": true
   },
   "outputs": [
    {
     "name": "stdout",
     "output_type": "stream",
     "text": [
      " hello\n",
      " hi\n",
      " hello\n",
      " hi\n",
      " hello\n",
      " hi\n",
      " hello\n",
      " hi\n",
      " hello\n",
      " hi\n",
      "Scope outside for\n"
     ]
    }
   ],
   "source": [
    "flag = ['1','2','3','4','5']\n",
    "for i in flag:\n",
    "  print(' hello')\n",
    "    \n",
    "  print(' hi')  \n",
    "print(\"Scope outside for\")"
   ]
  },
  {
   "cell_type": "markdown",
   "metadata": {},
   "source": [
    "### Eucledian distance"
   ]
  },
  {
   "cell_type": "code",
   "execution_count": 59,
   "metadata": {},
   "outputs": [
    {
     "data": {
      "text/plain": [
       "4.123105625617661"
      ]
     },
     "execution_count": 59,
     "metadata": {},
     "output_type": "execute_result"
    }
   ],
   "source": [
    "from numpy import linalg as LA\n",
    "#c = np.array([[1,2],[1,2]])\n",
    "a = np.array([5, 3])\n",
    "b = np.array([1,2])\n",
    "LA.norm(a-b)\n"
   ]
  },
  {
   "cell_type": "markdown",
   "metadata": {},
   "source": [
    "#### Eucledian distance using scipy"
   ]
  },
  {
   "cell_type": "code",
   "execution_count": 46,
   "metadata": {},
   "outputs": [
    {
     "name": "stdout",
     "output_type": "stream",
     "text": [
      "4.123105625617661\n"
     ]
    }
   ],
   "source": [
    "from scipy.spatial import distance\n",
    "# a = (5,3)\n",
    "# b = (1,2)\n",
    "a = np.array([5, 3])\n",
    "b = np.array([1,2])\n",
    "dst = distance.euclidean(a, b)\n",
    "print(dst)"
   ]
  },
  {
   "cell_type": "markdown",
   "metadata": {},
   "source": [
    "### Vector subtraction"
   ]
  },
  {
   "cell_type": "code",
   "execution_count": 48,
   "metadata": {},
   "outputs": [
    {
     "name": "stdout",
     "output_type": "stream",
     "text": [
      "By method 1  [ 1 -1]\n",
      "By method 2  [1, -1]\n"
     ]
    }
   ],
   "source": [
    "# method 1\n",
    "a = np.array([1,0])\n",
    "b = np.array([0,1])\n",
    "z = a - b\n",
    "print(\"By method 1 \", z)\n",
    "\n",
    "# method 2, requires more lines of code which can be done by single line above\n",
    "a = np.array([1,0])\n",
    "b = np.array([0,1])\n",
    "z = []\n",
    "for n,m in zip(a, b):\n",
    "    z.append(n-m)\n",
    "print(\"By method 2 \", z)"
   ]
  },
  {
   "cell_type": "markdown",
   "metadata": {},
   "source": [
    "###  Dot product"
   ]
  },
  {
   "cell_type": "code",
   "execution_count": 51,
   "metadata": {},
   "outputs": [
    {
     "name": "stdout",
     "output_type": "stream",
     "text": [
      "Dot product =  5\n"
     ]
    }
   ],
   "source": [
    "a = np.array([1,2])\n",
    "b = np.array([3,1])\n",
    "print(\"Dot product = \", np.dot(a, b))"
   ]
  },
  {
   "cell_type": "markdown",
   "metadata": {},
   "source": [
    "###  Ploting mathematical functions"
   ]
  },
  {
   "cell_type": "code",
   "execution_count": 56,
   "metadata": {},
   "outputs": [
    {
     "data": {
      "text/plain": [
       "[<matplotlib.lines.Line2D at 0x7fdaf1161978>]"
      ]
     },
     "execution_count": 56,
     "metadata": {},
     "output_type": "execute_result"
    },
    {
     "data": {
      "image/png": "[encoded data removed]",
      "text/plain": [
       "<Figure size 432x288 with 1 Axes>"
      ]
     },
     "metadata": {
      "needs_background": "light"
     },
     "output_type": "display_data"
    }
   ],
   "source": [
    "x = np.linspace(0, 2*np.pi, 100) # generates evenly spaced samples\n",
    "y = np.sin(x)\n",
    "\n",
    "import matplotlib.pyplot as plt\n",
    "\n",
    "%matplotlib inline\n",
    "plt.plot(x,y)"
   ]
  },
  {
   "cell_type": "markdown",
   "metadata": {},
   "source": [
    "###  Calculation of mean"
   ]
  },
  {
   "cell_type": "code",
   "execution_count": 58,
   "metadata": {},
   "outputs": [
    {
     "name": "stdout",
     "output_type": "stream",
     "text": [
      "Mean =  3.0\n"
     ]
    }
   ],
   "source": [
    "a = np.array([1,2,3,4,5])\n",
    "print(\"Mean = \", a.mean())"
   ]
  },
  {
   "cell_type": "markdown",
   "metadata": {},
   "source": [
    "### Array slicing"
   ]
  },
  {
   "cell_type": "code",
   "execution_count": 75,
   "metadata": {},
   "outputs": [
    {
     "name": "stdout",
     "output_type": "stream",
     "text": [
      "Element at position 1,2 =  8\n",
      "Slicing 0th column and getting elements from index 0 to index 3 excluding index 3 =  [ 1  6 11 16]\n",
      "Slicing 0th row and getting elements from index 0 to 4 excluding 4  = [1 2 3 4]\n"
     ]
    }
   ],
   "source": [
    "a = np.array([[1, 2, 3, 4, 5], [6, 7, 8, 9, 10], [11, 12, 13, 14, 15], [16, 17, 18, 19, 20]])\n",
    "print(\"Element at position 1,2 = \", a[1][2])\n",
    "print(\"Slicing 0th column and getting elements from index 0 to index 3 excluding index 3 = \", a[0:4, 0])\n",
    "print(\"Slicing 0th row and getting elements from index 0 to 4 excluding 4  =\", a[0, 0:4])"
   ]
  },
  {
   "cell_type": "code",
   "execution_count": null,
   "metadata": {},
   "outputs": [],
   "source": []
  }
 ],
 "metadata": {
  "kernelspec": {
   "display_name": "Python 3",
   "language": "python",
   "name": "python3"
  },
  "language_info": {
   "codemirror_mode": {
    "name": "ipython",
    "version": 3
   },
   "file_extension": ".py",
   "mimetype": "text/x-python",
   "name": "python",
   "nbconvert_exporter": "python",
   "pygments_lexer": "ipython3",
   "version": "3.7.3"
  }
 },
 "nbformat": 4,
 "nbformat_minor": 2
}
