{
 "cells": [
  {
   "cell_type": "markdown",
   "metadata": {},
   "source": [
    "### Python basics"
   ]
  },
  {
   "cell_type": "markdown",
   "metadata": {},
   "source": [
    "#### Dictionary"
   ]
  },
  {
   "cell_type": "code",
   "execution_count": 18,
   "metadata": {},
   "outputs": [
    {
     "name": "stdout",
     "output_type": "stream",
     "text": [
      "2\n"
     ]
    }
   ],
   "source": [
    "my_dictionary ={\"red\":\"2\", \"blue\" : \"3\", \"green\" : \"4\"}\n",
    "print(my_dictionary[\"red\"])"
   ]
  },
  {
   "cell_type": "markdown",
   "metadata": {},
   "source": [
    "#### Functions\n",
    "*note : Python uses indentation to group lines of code or to determine scope*"
   ]
  },
  {
   "cell_type": "code",
   "execution_count": 19,
   "metadata": {
    "scrolled": true
   },
   "outputs": [
    {
     "name": "stdout",
     "output_type": "stream",
     "text": [
      "Hello world\n"
     ]
    }
   ],
   "source": [
    "# function defnition\n",
    "def greetings():\n",
    " print(\"Hello world\")\n",
    "    \n",
    "# function call    \n",
    "greetings()"
   ]
  },
  {
   "cell_type": "markdown",
   "metadata": {},
   "source": [
    "### sum function"
   ]
  },
  {
   "cell_type": "code",
   "execution_count": 20,
   "metadata": {},
   "outputs": [
    {
     "data": {
      "text/plain": [
       "103"
      ]
     },
     "execution_count": 20,
     "metadata": {},
     "output_type": "execute_result"
    }
   ],
   "source": [
    "sum([1,2,100])"
   ]
  },
  {
   "cell_type": "markdown",
   "metadata": {},
   "source": [
    "#### range function\n",
    "*range(start, stop, step)*"
   ]
  },
  {
   "cell_type": "code",
   "execution_count": 43,
   "metadata": {},
   "outputs": [
    {
     "name": "stdout",
     "output_type": "stream",
     "text": [
      "1\n",
      "3\n",
      "5\n",
      "7\n",
      "9\n",
      "range(5)\n",
      "0\n",
      "1\n",
      "2\n",
      "3\n",
      "4\n"
     ]
    }
   ],
   "source": [
    "for n in range(1,10, 2):\n",
    " print(n)\n",
    "print(\"range(5)\")\n",
    "for n in range(5):\n",
    " print(n)"
   ]
  },
  {
   "cell_type": "markdown",
   "metadata": {},
   "source": [
    "#### Numpy functions"
   ]
  },
  {
   "cell_type": "markdown",
   "metadata": {},
   "source": [
    "##### sum"
   ]
  },
  {
   "cell_type": "code",
   "execution_count": 37,
   "metadata": {},
   "outputs": [
    {
     "data": {
      "text/plain": [
       "103"
      ]
     },
     "execution_count": 37,
     "metadata": {},
     "output_type": "execute_result"
    }
   ],
   "source": [
    "import numpy as np\n",
    "np.sum([1,2,100])"
   ]
  },
  {
   "cell_type": "markdown",
   "metadata": {},
   "source": [
    "##### unique"
   ]
  },
  {
   "cell_type": "code",
   "execution_count": 38,
   "metadata": {},
   "outputs": [
    {
     "data": {
      "text/plain": [
       "(array([1, 2, 3, 5]), array([2, 2, 2, 1]))"
      ]
     },
     "execution_count": 38,
     "metadata": {},
     "output_type": "execute_result"
    }
   ],
   "source": [
    "np.unique([1,2,3,3,2,1,5], return_counts=True) # returns unique data with thier counts"
   ]
  },
  {
   "cell_type": "markdown",
   "metadata": {},
   "source": [
    "#### Lists and accessing it"
   ]
  },
  {
   "cell_type": "code",
   "execution_count": 23,
   "metadata": {},
   "outputs": [
    {
     "name": "stdout",
     "output_type": "stream",
     "text": [
      "GREEN\n",
      "YELLOW\n",
      "BLUE\n",
      "ORANGE\n",
      "RED\n"
     ]
    }
   ],
   "source": [
    "color = {\"RED\", \"BLUE\", \"GREEN\", \"YELLOW\", \"ORANGE\"}\n",
    "for c in color:\n",
    "    print(c)"
   ]
  },
  {
   "cell_type": "markdown",
   "metadata": {},
   "source": [
    "#### Visualization"
   ]
  },
  {
   "cell_type": "code",
   "execution_count": 24,
   "metadata": {},
   "outputs": [
    {
     "data": {
      "image/png": "[encoded data removed]",
      "text/plain": [
       "<Figure size 432x288 with 1 Axes>"
      ]
     },
     "metadata": {
      "needs_background": "light"
     },
     "output_type": "display_data"
    }
   ],
   "source": [
    "import matplotlib.pyplot as plt\n",
    "\n",
    "input_values = [1, 2, 3, 4, 5]\n",
    "output_values = [1.5, 5, 9, 16, 25]\n",
    "\n",
    "\n",
    "fig, ax = plt.subplots()\n",
    "ax.plot(input_values, output_values, linewidth=3)\n",
    "plt.show()"
   ]
  },
  {
   "cell_type": "markdown",
   "metadata": {},
   "source": [
    "#### Pandas Basics\n",
    " *A library to handle data*\n",
    " "
   ]
  },
  {
   "cell_type": "code",
   "execution_count": 8,
   "metadata": {
    "scrolled": true
   },
   "outputs": [
    {
     "name": "stdout",
     "output_type": "stream",
     "text": [
      "['Google' 'OYO']\n",
      "Google\n",
      "0       OYO\n",
      "1    Google\n",
      "2    Google\n",
      "Name: Company, dtype: object\n",
      "\n",
      "\n",
      "  Company Department Name Location\n",
      "1  Google              AI       US\n",
      "2  Google         Quantum       US\n",
      "Index(['wmc', 'dit', 'noc', 'cbo', 'rfc', 'lcom', 'ca', 'ce', 'npm', 'lcom3',\n",
      "       'loc', 'dam', 'moa', 'mfa', 'cam', 'ic', 'cbm', 'amc', 'max_cc',\n",
      "       'avg_cc'],\n",
      "      dtype='object')\n"
     ]
    }
   ],
   "source": [
    "import pandas as pd\n",
    "import numpy as np\n",
    "\n",
    "# Creating a dataframe with dictionary \n",
    "\n",
    "COMPANY_INFO = {\n",
    "         'Company' : ['OYO', 'Google', 'Google'],\n",
    "         'Department Name' : ['Registration', 'AI', 'Quantum'],\n",
    "         'Location' : ['Bangalore', 'US', 'US']\n",
    "        }\n",
    "\n",
    "COMPANY_INFO_DATA = pd.DataFrame(COMPANY_INFO)\n",
    "\n",
    "elements, count = np.unique(COMPANY_INFO['Company'], return_counts=True)\n",
    "print(elements)\n",
    "print(elements[0])\n",
    "print(COMPANY_INFO_DATA['Company'])\n",
    "\n",
    "print('\\n')\n",
    "# A complex query of dataframe\n",
    "print(COMPANY_INFO_DATA.where(COMPANY_INFO_DATA['Company'] == elements[0]).dropna()) # droping NaN\n",
    " \n",
    "\n",
    "# Creating dataframe from file\n",
    "\n",
    "FILE_PATH = './ant-1.3/ant-1.3.csv'\n",
    "df = None\n",
    "try:\n",
    " df = pd.read_csv(FILE_PATH)\n",
    " print(df.columns[3:23])\n",
    "except FileNotFoundError:\n",
    " print(\"Exception : FileNotFounfError, hence file could not be read\")\n",
    "\n",
    "# Saving file  as CSV\n",
    "DEST_FILE_PATH = 'lab_new.csv'\n",
    "if df is not None :\n",
    " df.to_csv(DEST_FILE_PATH)"
   ]
  },
  {
   "cell_type": "code",
   "execution_count": 2,
   "metadata": {},
   "outputs": [
    {
     "name": "stdout",
     "output_type": "stream",
     "text": [
      " hello\n",
      " hi\n",
      " hello\n",
      " hi\n",
      " hello\n",
      " hi\n",
      " hello\n",
      " hi\n",
      " hello\n",
      " hi\n",
      "Scope outside for\n"
     ]
    }
   ],
   "source": [
    "flag = ['1','2','3','4','5']\n",
    "for i in flag:\n",
    "  print(' hello')\n",
    "    \n",
    "  print(' hi')  \n",
    "print(\"Scope outside for\")"
   ]
  },
  {
   "cell_type": "code",
   "execution_count": null,
   "metadata": {},
   "outputs": [],
   "source": []
  }
 ],
 "metadata": {
  "kernelspec": {
   "display_name": "Python 3",
   "language": "python",
   "name": "python3"
  },
  "language_info": {
   "codemirror_mode": {
    "name": "ipython",
    "version": 3
   },
   "file_extension": ".py",
   "mimetype": "text/x-python",
   "name": "python",
   "nbconvert_exporter": "python",
   "pygments_lexer": "ipython3",
   "version": "3.7.3"
  }
 },
 "nbformat": 4,
 "nbformat_minor": 2
}
